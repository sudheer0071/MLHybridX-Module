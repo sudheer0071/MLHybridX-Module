{
 "cells": [
  {
   "cell_type": "code",
   "execution_count": 5,
   "metadata": {},
   "outputs": [
    {
     "ename": "ModuleNotFoundError",
     "evalue": "No module named 'algorithm'",
     "output_type": "error",
     "traceback": [
      "\u001b[1;31m---------------------------------------------------------------------------\u001b[0m",
      "\u001b[1;31mModuleNotFoundError\u001b[0m                       Traceback (most recent call last)",
      "Cell \u001b[1;32mIn[5], line 2\u001b[0m\n\u001b[0;32m      1\u001b[0m \u001b[39m# import hybrid\u001b[39;00m\n\u001b[1;32m----> 2\u001b[0m \u001b[39mfrom\u001b[39;00m \u001b[39mhybrid\u001b[39;00m\u001b[39m.\u001b[39;00m\u001b[39mcheck\u001b[39;00m \u001b[39mimport\u001b[39;00m EasyReggressor\n",
      "File \u001b[1;32md:\\Anaconda\\lib\\site-packages\\hybrid\\__init__.py:1\u001b[0m\n\u001b[1;32m----> 1\u001b[0m \u001b[39mfrom\u001b[39;00m \u001b[39m.\u001b[39;00m\u001b[39mcheck\u001b[39;00m \u001b[39mimport\u001b[39;00m EasyReggressor\n",
      "File \u001b[1;32md:\\Anaconda\\lib\\site-packages\\hybrid\\check.py:17\u001b[0m\n\u001b[0;32m     15\u001b[0m \u001b[39mimport\u001b[39;00m \u001b[39mpandas\u001b[39;00m \u001b[39mas\u001b[39;00m \u001b[39mpd\u001b[39;00m \n\u001b[0;32m     16\u001b[0m \u001b[39mfrom\u001b[39;00m \u001b[39mhybrid\u001b[39;00m\u001b[39m.\u001b[39;00m\u001b[39mcheck_extention\u001b[39;00m \u001b[39mimport\u001b[39;00m check_file\n\u001b[1;32m---> 17\u001b[0m \u001b[39mfrom\u001b[39;00m \u001b[39malgorithm\u001b[39;00m \u001b[39mimport\u001b[39;00m ols, multiple, GDR\n\u001b[0;32m     18\u001b[0m \u001b[39mfrom\u001b[39;00m \u001b[39mscores\u001b[39;00m \u001b[39mimport\u001b[39;00m SE\n\u001b[0;32m     19\u001b[0m \u001b[39mfrom\u001b[39;00m \u001b[39msplit\u001b[39;00m \u001b[39mimport\u001b[39;00m split_data\n",
      "\u001b[1;31mModuleNotFoundError\u001b[0m: No module named 'algorithm'"
     ]
    }
   ],
   "source": [
    "# import hybrid\n",
    "from hybrid.check import EasyReggressor"
   ]
  },
  {
   "cell_type": "code",
   "execution_count": 6,
   "metadata": {},
   "outputs": [
    {
     "ename": "NameError",
     "evalue": "name 'EasyReggressor' is not defined",
     "output_type": "error",
     "traceback": [
      "\u001b[1;31m---------------------------------------------------------------------------\u001b[0m",
      "\u001b[1;31mNameError\u001b[0m                                 Traceback (most recent call last)",
      "Cell \u001b[1;32mIn[6], line 1\u001b[0m\n\u001b[1;32m----> 1\u001b[0m new \u001b[39m=\u001b[39m EasyReggressor()\n",
      "\u001b[1;31mNameError\u001b[0m: name 'EasyReggressor' is not defined"
     ]
    }
   ],
   "source": [
    "new = EasyReggressor()"
   ]
  },
  {
   "cell_type": "code",
   "execution_count": null,
   "metadata": {},
   "outputs": [],
   "source": []
  }
 ],
 "metadata": {
  "kernelspec": {
   "display_name": "base",
   "language": "python",
   "name": "python3"
  },
  "language_info": {
   "codemirror_mode": {
    "name": "ipython",
    "version": 3
   },
   "file_extension": ".py",
   "mimetype": "text/x-python",
   "name": "python",
   "nbconvert_exporter": "python",
   "pygments_lexer": "ipython3",
   "version": "3.9.17"
  },
  "orig_nbformat": 4
 },
 "nbformat": 4,
 "nbformat_minor": 2
}
